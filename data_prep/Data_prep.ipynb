{
 "cells": [
  {
   "cell_type": "code",
   "execution_count": 1,
   "metadata": {},
   "outputs": [],
   "source": [
    "import numpy as np\n",
    "import pandas as pd \n",
    "%matplotlib inline"
   ]
  },
  {
   "cell_type": "markdown",
   "metadata": {},
   "source": [
    "# Preprocess the data to a csv format"
   ]
  },
  {
   "cell_type": "code",
   "execution_count": 2,
   "metadata": {},
   "outputs": [
    {
     "data": {
      "text/html": [
       "<div>\n",
       "<style scoped>\n",
       "    .dataframe tbody tr th:only-of-type {\n",
       "        vertical-align: middle;\n",
       "    }\n",
       "\n",
       "    .dataframe tbody tr th {\n",
       "        vertical-align: top;\n",
       "    }\n",
       "\n",
       "    .dataframe thead th {\n",
       "        text-align: right;\n",
       "    }\n",
       "</style>\n",
       "<table border=\"1\" class=\"dataframe\">\n",
       "  <thead>\n",
       "    <tr style=\"text-align: right;\">\n",
       "      <th></th>\n",
       "      <th>answerKey</th>\n",
       "      <th>id</th>\n",
       "      <th>question_concept</th>\n",
       "      <th>stem</th>\n",
       "      <th>A</th>\n",
       "      <th>B</th>\n",
       "      <th>C</th>\n",
       "      <th>D</th>\n",
       "      <th>E</th>\n",
       "    </tr>\n",
       "  </thead>\n",
       "  <tbody>\n",
       "    <tr>\n",
       "      <th>0</th>\n",
       "      <td>A</td>\n",
       "      <td>075e483d21c29a511267ef62bedc0461</td>\n",
       "      <td>punishing</td>\n",
       "      <td>The sanctions against the school were a punish...</td>\n",
       "      <td>ignore</td>\n",
       "      <td>enforce</td>\n",
       "      <td>authoritarian</td>\n",
       "      <td>yell at</td>\n",
       "      <td>avoid</td>\n",
       "    </tr>\n",
       "    <tr>\n",
       "      <th>1</th>\n",
       "      <td>B</td>\n",
       "      <td>61fe6e879ff18686d7552425a36344c8</td>\n",
       "      <td>people</td>\n",
       "      <td>Sammy wanted to go to where the people were.  ...</td>\n",
       "      <td>race track</td>\n",
       "      <td>populated areas</td>\n",
       "      <td>the desert</td>\n",
       "      <td>apartment</td>\n",
       "      <td>roadblock</td>\n",
       "    </tr>\n",
       "  </tbody>\n",
       "</table>\n",
       "</div>"
      ],
      "text/plain": [
       "  answerKey                                id question_concept  \\\n",
       "0         A  075e483d21c29a511267ef62bedc0461        punishing   \n",
       "1         B  61fe6e879ff18686d7552425a36344c8           people   \n",
       "\n",
       "                                                stem           A  \\\n",
       "0  The sanctions against the school were a punish...      ignore   \n",
       "1  Sammy wanted to go to where the people were.  ...  race track   \n",
       "\n",
       "                 B              C          D          E  \n",
       "0          enforce  authoritarian    yell at      avoid  \n",
       "1  populated areas     the desert  apartment  roadblock  "
      ]
     },
     "execution_count": 2,
     "metadata": {},
     "output_type": "execute_result"
    }
   ],
   "source": [
    "train = pd.read_json(r'common_sense_qa\\train_rand_split.jsonl', lines=True)\n",
    "dev = pd.read_json(r'common_sense_qa\\dev_rand_split.jsonl', lines=True)\n",
    "def preprocess_data(df):\n",
    "    df = pd.concat([df,df.question.apply(pd.Series)], axis = 1)\n",
    "    df = pd.concat([df,df.choices.apply(pd.Series)], axis = 1) \n",
    "    df = df.drop(columns = ['choices','question'])\n",
    "    def get_answears(row):\n",
    "        return [col['text'] for col in row]\n",
    "    answers_df = df[[0,1,2,3,4]].apply(get_answears)\n",
    "    answers_df.columns = ['A','B','C','D','E']\n",
    "    df = pd.concat([df,answers_df], axis = 1)\n",
    "    df = df.drop(columns = range(5))\n",
    "    return df\n",
    "train = preprocess_data(train)\n",
    "dev = preprocess_data(dev)\n",
    "train.head(2)"
   ]
  },
  {
   "cell_type": "markdown",
   "metadata": {},
   "source": [
    "# Verify that the data is mostly balanced"
   ]
  },
  {
   "cell_type": "code",
   "execution_count": 3,
   "metadata": {},
   "outputs": [
    {
     "data": {
      "text/plain": [
       "<matplotlib.axes._subplots.AxesSubplot at 0x1e72f1a60b8>"
      ]
     },
     "execution_count": 3,
     "metadata": {},
     "output_type": "execute_result"
    },
    {
     "data": {
      "image/png": "[encoded data removed]",
      "text/plain": [
       "<Figure size 432x288 with 1 Axes>"
      ]
     },
     "metadata": {
      "needs_background": "light"
     },
     "output_type": "display_data"
    }
   ],
   "source": [
    "train['answerKey'].value_counts().plot.bar(title = '# of samples of answers')"
   ]
  },
  {
   "cell_type": "markdown",
   "metadata": {},
   "source": [
    "# Export to csv"
   ]
  },
  {
   "cell_type": "code",
   "execution_count": 4,
   "metadata": {},
   "outputs": [],
   "source": [
    "train.to_csv('train.csv', index = False)\n",
    "dev.to_csv('dev.csv', index = False)"
   ]
  }
 ],
 "metadata": {
  "kernelspec": {
   "display_name": "Python 3",
   "language": "python",
   "name": "python3"
  },
  "language_info": {
   "codemirror_mode": {
    "name": "ipython",
    "version": 3
   },
   "file_extension": ".py",
   "mimetype": "text/x-python",
   "name": "python",
   "nbconvert_exporter": "python",
   "pygments_lexer": "ipython3",
   "version": "3.7.3"
  }
 },
 "nbformat": 4,
 "nbformat_minor": 2
}
